{
 "cells": [
  {
   "cell_type": "markdown",
   "id": "f5611db9",
   "metadata": {},
   "source": [
    "### Definição de Dicionário: É um objeto que representa a coleção de um ou mais objetos. Cada objeto tem sua chave e seu valor. Assim, para acessar um valor de um determinado objeto, basta chamarmos sua chave. Os dicionários são iniciados e terminados por chaves { }"
   ]
  },
  {
   "cell_type": "markdown",
   "id": "5573b20d",
   "metadata": {},
   "source": [
    "#### Criando dicionários"
   ]
  },
  {
   "cell_type": "code",
   "execution_count": 1,
   "id": "93080c22",
   "metadata": {},
   "outputs": [],
   "source": [
    "dict1 = {'chave1': 'valor1',\n",
    "         'chave2': 'valor2'}"
   ]
  },
  {
   "cell_type": "code",
   "execution_count": 2,
   "id": "a6107450",
   "metadata": {},
   "outputs": [
    {
     "data": {
      "text/plain": [
       "{'chave1': 'valor1', 'chave2': 'valor2'}"
      ]
     },
     "execution_count": 2,
     "metadata": {},
     "output_type": "execute_result"
    }
   ],
   "source": [
    "dict1"
   ]
  },
  {
   "cell_type": "code",
   "execution_count": 3,
   "id": "60008563",
   "metadata": {},
   "outputs": [
    {
     "data": {
      "text/plain": [
       "dict"
      ]
     },
     "execution_count": 3,
     "metadata": {},
     "output_type": "execute_result"
    }
   ],
   "source": [
    "type(dict1)"
   ]
  },
  {
   "cell_type": "code",
   "execution_count": 4,
   "id": "6a207a88",
   "metadata": {},
   "outputs": [],
   "source": [
    "dict2 = dict(a=1,\n",
    "            b=2,\n",
    "            c=3,\n",
    "            d='a')"
   ]
  },
  {
   "cell_type": "code",
   "execution_count": 5,
   "id": "a3d2b0c3",
   "metadata": {},
   "outputs": [
    {
     "data": {
      "text/plain": [
       "{'a': 1, 'b': 2, 'c': 3, 'd': 'a'}"
      ]
     },
     "execution_count": 5,
     "metadata": {},
     "output_type": "execute_result"
    }
   ],
   "source": [
    "dict2"
   ]
  },
  {
   "cell_type": "code",
   "execution_count": 6,
   "id": "9e800f4a",
   "metadata": {},
   "outputs": [],
   "source": [
    "dict3 = dict([('a',1),\n",
    "             ('b',2),\n",
    "             ('c',3)])"
   ]
  },
  {
   "cell_type": "code",
   "execution_count": 7,
   "id": "fbfcc355",
   "metadata": {},
   "outputs": [
    {
     "data": {
      "text/plain": [
       "{'a': 1, 'b': 2, 'c': 3}"
      ]
     },
     "execution_count": 7,
     "metadata": {},
     "output_type": "execute_result"
    }
   ],
   "source": [
    "dict3"
   ]
  },
  {
   "cell_type": "code",
   "execution_count": 9,
   "id": "55517469",
   "metadata": {},
   "outputs": [],
   "source": [
    "dict4 = {'chave1': ['nome', 'idade', 'cidade'],\n",
    "         'chave2': ['Samuel', 24, 'São Paulo']}"
   ]
  },
  {
   "cell_type": "code",
   "execution_count": 10,
   "id": "d5167a96",
   "metadata": {},
   "outputs": [
    {
     "data": {
      "text/plain": [
       "{'chave1': ['nome', 'idade', 'cidade'], 'chave2': ['Samuel', 24, 'São Paulo']}"
      ]
     },
     "execution_count": 10,
     "metadata": {},
     "output_type": "execute_result"
    }
   ],
   "source": [
    "dict4"
   ]
  },
  {
   "cell_type": "code",
   "execution_count": 11,
   "id": "508823d1",
   "metadata": {},
   "outputs": [],
   "source": [
    "dict5 = {'id': [1,2,3],\n",
    "        'user': {'nome':['Caio', 'Rafael', 'Pedro'],\n",
    "                    'idade': [29,30,31]}}"
   ]
  },
  {
   "cell_type": "code",
   "execution_count": 12,
   "id": "99d4cf82",
   "metadata": {},
   "outputs": [
    {
     "data": {
      "text/plain": [
       "{'id': [1, 2, 3],\n",
       " 'user': {'nome': ['Caio', 'Rafael', 'Pedro'], 'idade': [29, 30, 31]}}"
      ]
     },
     "execution_count": 12,
     "metadata": {},
     "output_type": "execute_result"
    }
   ],
   "source": [
    "dict5"
   ]
  },
  {
   "cell_type": "code",
   "execution_count": 13,
   "id": "671ba972",
   "metadata": {},
   "outputs": [],
   "source": [
    "dict6 = dict(zip(['chave1', 'chave2','chave3'],\n",
    "                ['valor1','valor2','valor3']))"
   ]
  },
  {
   "cell_type": "code",
   "execution_count": 14,
   "id": "43b9c148",
   "metadata": {},
   "outputs": [
    {
     "data": {
      "text/plain": [
       "{'chave1': 'valor1', 'chave2': 'valor2', 'chave3': 'valor3'}"
      ]
     },
     "execution_count": 14,
     "metadata": {},
     "output_type": "execute_result"
    }
   ],
   "source": [
    "dict6"
   ]
  },
  {
   "cell_type": "markdown",
   "id": "1ecafdc0",
   "metadata": {},
   "source": [
    "#### Acessando valores do dicionário"
   ]
  },
  {
   "cell_type": "code",
   "execution_count": 16,
   "id": "510cf1c3",
   "metadata": {},
   "outputs": [
    {
     "data": {
      "text/plain": [
       "{'chave1': 'valor1', 'chave2': 'valor2'}"
      ]
     },
     "execution_count": 16,
     "metadata": {},
     "output_type": "execute_result"
    }
   ],
   "source": [
    "dict1"
   ]
  },
  {
   "cell_type": "code",
   "execution_count": 17,
   "id": "305bf166",
   "metadata": {},
   "outputs": [
    {
     "data": {
      "text/plain": [
       "'valor1'"
      ]
     },
     "execution_count": 17,
     "metadata": {},
     "output_type": "execute_result"
    }
   ],
   "source": [
    "dict1['chave1']"
   ]
  },
  {
   "cell_type": "code",
   "execution_count": 18,
   "id": "4ae2ca4e",
   "metadata": {},
   "outputs": [
    {
     "data": {
      "text/plain": [
       "'valor2'"
      ]
     },
     "execution_count": 18,
     "metadata": {},
     "output_type": "execute_result"
    }
   ],
   "source": [
    "dict1.get('chave2')"
   ]
  },
  {
   "cell_type": "code",
   "execution_count": 19,
   "id": "e1227cca",
   "metadata": {},
   "outputs": [
    {
     "data": {
      "text/plain": [
       "'Não existe essa chave!'"
      ]
     },
     "execution_count": 19,
     "metadata": {},
     "output_type": "execute_result"
    }
   ],
   "source": [
    "dict1.get('Chave1','Não existe essa chave!')"
   ]
  },
  {
   "cell_type": "code",
   "execution_count": 20,
   "id": "0865c205",
   "metadata": {},
   "outputs": [
    {
     "data": {
      "text/plain": [
       "'valor2'"
      ]
     },
     "execution_count": 20,
     "metadata": {},
     "output_type": "execute_result"
    }
   ],
   "source": [
    "dict1.get(list(dict1)[1])"
   ]
  },
  {
   "cell_type": "code",
   "execution_count": 21,
   "id": "b141492c",
   "metadata": {},
   "outputs": [
    {
     "name": "stdout",
     "output_type": "stream",
     "text": [
      "chave1 valor1\n",
      "chave2 valor2\n"
     ]
    }
   ],
   "source": [
    "for chave in dict1.keys():\n",
    "    print(chave, dict1[chave])"
   ]
  },
  {
   "cell_type": "code",
   "execution_count": 23,
   "id": "81145887",
   "metadata": {},
   "outputs": [
    {
     "name": "stdout",
     "output_type": "stream",
     "text": [
      "chave1 valor1\n",
      "chave2 valor2\n"
     ]
    }
   ],
   "source": [
    "for chave,valor in dict1.items():\n",
    "    print(chave,valor)"
   ]
  },
  {
   "cell_type": "markdown",
   "id": "4997fbf2",
   "metadata": {},
   "source": [
    "#### Juntando Dicionários"
   ]
  },
  {
   "cell_type": "code",
   "execution_count": 24,
   "id": "7f5a7aeb",
   "metadata": {},
   "outputs": [
    {
     "data": {
      "text/plain": [
       "{'chave1': 'valor1', 'chave2': 'valor2'}"
      ]
     },
     "execution_count": 24,
     "metadata": {},
     "output_type": "execute_result"
    }
   ],
   "source": [
    "dict1"
   ]
  },
  {
   "cell_type": "code",
   "execution_count": 25,
   "id": "1ab3a76f",
   "metadata": {},
   "outputs": [
    {
     "data": {
      "text/plain": [
       "{'a': 1, 'b': 2, 'c': 3, 'd': 'a'}"
      ]
     },
     "execution_count": 25,
     "metadata": {},
     "output_type": "execute_result"
    }
   ],
   "source": [
    "dict2"
   ]
  },
  {
   "cell_type": "code",
   "execution_count": 28,
   "id": "c7cad31f",
   "metadata": {},
   "outputs": [],
   "source": [
    "dict1.update(dict2)"
   ]
  },
  {
   "cell_type": "code",
   "execution_count": 29,
   "id": "4cbddd0a",
   "metadata": {},
   "outputs": [
    {
     "data": {
      "text/plain": [
       "{'chave1': 'valor1', 'chave2': 'valor2', 'a': 1, 'b': 2, 'c': 3, 'd': 'a'}"
      ]
     },
     "execution_count": 29,
     "metadata": {},
     "output_type": "execute_result"
    }
   ],
   "source": [
    "dict1"
   ]
  },
  {
   "cell_type": "code",
   "execution_count": 30,
   "id": "7214a6cd",
   "metadata": {},
   "outputs": [],
   "source": [
    "dict1['nova chave'] = 100"
   ]
  },
  {
   "cell_type": "code",
   "execution_count": 31,
   "id": "60706efc",
   "metadata": {},
   "outputs": [
    {
     "data": {
      "text/plain": [
       "{'chave1': 'valor1',\n",
       " 'chave2': 'valor2',\n",
       " 'a': 1,\n",
       " 'b': 2,\n",
       " 'c': 3,\n",
       " 'd': 'a',\n",
       " 'nova chave': 100}"
      ]
     },
     "execution_count": 31,
     "metadata": {},
     "output_type": "execute_result"
    }
   ],
   "source": [
    "dict1"
   ]
  },
  {
   "cell_type": "code",
   "execution_count": 32,
   "id": "0c4f14df",
   "metadata": {},
   "outputs": [],
   "source": [
    "dict1.update({'outra chave': 'outro valor'})"
   ]
  },
  {
   "cell_type": "code",
   "execution_count": 33,
   "id": "cd1ed683",
   "metadata": {},
   "outputs": [
    {
     "data": {
      "text/plain": [
       "{'chave1': 'valor1',\n",
       " 'chave2': 'valor2',\n",
       " 'a': 1,\n",
       " 'b': 2,\n",
       " 'c': 3,\n",
       " 'd': 'a',\n",
       " 'nova chave': 100,\n",
       " 'outra chave': 'outro valor'}"
      ]
     },
     "execution_count": 33,
     "metadata": {},
     "output_type": "execute_result"
    }
   ],
   "source": [
    "dict1"
   ]
  },
  {
   "cell_type": "code",
   "execution_count": 35,
   "id": "11fa82af",
   "metadata": {},
   "outputs": [
    {
     "data": {
      "text/plain": [
       "{'a': 1, 'b': 2, 'c': 3, 'd': 'a'}"
      ]
     },
     "execution_count": 35,
     "metadata": {},
     "output_type": "execute_result"
    }
   ],
   "source": [
    "{**dict2,**dict3}"
   ]
  },
  {
   "cell_type": "markdown",
   "id": "aea7b5e0",
   "metadata": {},
   "source": [
    "#### Verificando se um valor pertence a chave"
   ]
  },
  {
   "cell_type": "code",
   "execution_count": 36,
   "id": "6e201136",
   "metadata": {},
   "outputs": [
    {
     "data": {
      "text/plain": [
       "{'a': 1, 'b': 2, 'c': 3}"
      ]
     },
     "execution_count": 36,
     "metadata": {},
     "output_type": "execute_result"
    }
   ],
   "source": [
    "dict3"
   ]
  },
  {
   "cell_type": "code",
   "execution_count": 37,
   "id": "a5f4ee63",
   "metadata": {},
   "outputs": [
    {
     "data": {
      "text/plain": [
       "True"
      ]
     },
     "execution_count": 37,
     "metadata": {},
     "output_type": "execute_result"
    }
   ],
   "source": [
    "1 == dict3['a']"
   ]
  },
  {
   "cell_type": "markdown",
   "id": "186124e2",
   "metadata": {},
   "source": [
    "#### Métodos"
   ]
  },
  {
   "cell_type": "code",
   "execution_count": 38,
   "id": "9b42e968",
   "metadata": {},
   "outputs": [],
   "source": [
    "dict3.clear()"
   ]
  },
  {
   "cell_type": "code",
   "execution_count": 39,
   "id": "92a7933f",
   "metadata": {},
   "outputs": [
    {
     "data": {
      "text/plain": [
       "{}"
      ]
     },
     "execution_count": 39,
     "metadata": {},
     "output_type": "execute_result"
    }
   ],
   "source": [
    "dict3"
   ]
  },
  {
   "cell_type": "code",
   "execution_count": 40,
   "id": "ebfadc8a",
   "metadata": {},
   "outputs": [],
   "source": [
    "dict100 = dict3.copy()"
   ]
  },
  {
   "cell_type": "code",
   "execution_count": 41,
   "id": "4dc155f0",
   "metadata": {},
   "outputs": [
    {
     "data": {
      "text/plain": [
       "{}"
      ]
     },
     "execution_count": 41,
     "metadata": {},
     "output_type": "execute_result"
    }
   ],
   "source": [
    "dict100"
   ]
  },
  {
   "cell_type": "code",
   "execution_count": 42,
   "id": "8c1721f0",
   "metadata": {},
   "outputs": [
    {
     "data": {
      "text/plain": [
       "{'chave1': ['nome', 'idade', 'cidade'], 'chave2': ['Samuel', 24, 'São Paulo']}"
      ]
     },
     "execution_count": 42,
     "metadata": {},
     "output_type": "execute_result"
    }
   ],
   "source": [
    "dict4"
   ]
  },
  {
   "cell_type": "code",
   "execution_count": 43,
   "id": "99ade04c",
   "metadata": {},
   "outputs": [
    {
     "data": {
      "text/plain": [
       "['nome', 'idade', 'cidade']"
      ]
     },
     "execution_count": 43,
     "metadata": {},
     "output_type": "execute_result"
    }
   ],
   "source": [
    "dict4.pop('chave1')"
   ]
  },
  {
   "cell_type": "code",
   "execution_count": 44,
   "id": "c9da5d2c",
   "metadata": {},
   "outputs": [
    {
     "data": {
      "text/plain": [
       "{'chave2': ['Samuel', 24, 'São Paulo']}"
      ]
     },
     "execution_count": 44,
     "metadata": {},
     "output_type": "execute_result"
    }
   ],
   "source": [
    "dict4"
   ]
  },
  {
   "cell_type": "code",
   "execution_count": 45,
   "id": "0537033f",
   "metadata": {},
   "outputs": [
    {
     "data": {
      "text/plain": [
       "{'chave1': 'valor1', 'chave2': 'valor2', 'chave3': 'valor3'}"
      ]
     },
     "execution_count": 45,
     "metadata": {},
     "output_type": "execute_result"
    }
   ],
   "source": [
    "dict6"
   ]
  },
  {
   "cell_type": "code",
   "execution_count": 46,
   "id": "3e3e44b0",
   "metadata": {},
   "outputs": [
    {
     "data": {
      "text/plain": [
       "('chave3', 'valor3')"
      ]
     },
     "execution_count": 46,
     "metadata": {},
     "output_type": "execute_result"
    }
   ],
   "source": [
    "dict6.popitem()"
   ]
  },
  {
   "cell_type": "code",
   "execution_count": 47,
   "id": "6be33f88",
   "metadata": {},
   "outputs": [
    {
     "data": {
      "text/plain": [
       "{'chave1': 'valor1', 'chave2': 'valor2'}"
      ]
     },
     "execution_count": 47,
     "metadata": {},
     "output_type": "execute_result"
    }
   ],
   "source": [
    "dict6"
   ]
  },
  {
   "cell_type": "code",
   "execution_count": null,
   "id": "7e225ca5",
   "metadata": {},
   "outputs": [],
   "source": []
  }
 ],
 "metadata": {
  "kernelspec": {
   "display_name": "Python 3 (ipykernel)",
   "language": "python",
   "name": "python3"
  },
  "language_info": {
   "codemirror_mode": {
    "name": "ipython",
    "version": 3
   },
   "file_extension": ".py",
   "mimetype": "text/x-python",
   "name": "python",
   "nbconvert_exporter": "python",
   "pygments_lexer": "ipython3",
   "version": "3.11.5"
  }
 },
 "nbformat": 4,
 "nbformat_minor": 5
}
